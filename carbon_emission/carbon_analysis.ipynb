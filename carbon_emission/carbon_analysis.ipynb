{
 "cells": [
  {
   "cell_type": "code",
   "execution_count": 1,
   "metadata": {},
   "outputs": [],
   "source": [
    "import pandas as pd"
   ]
  },
  {
   "cell_type": "code",
   "execution_count": 4,
   "metadata": {},
   "outputs": [
    {
     "data": {
      "text/html": [
       "<div>\n",
       "<style scoped>\n",
       "    .dataframe tbody tr th:only-of-type {\n",
       "        vertical-align: middle;\n",
       "    }\n",
       "\n",
       "    .dataframe tbody tr th {\n",
       "        vertical-align: top;\n",
       "    }\n",
       "\n",
       "    .dataframe thead th {\n",
       "        text-align: right;\n",
       "    }\n",
       "</style>\n",
       "<table border=\"1\" class=\"dataframe\">\n",
       "  <thead>\n",
       "    <tr style=\"text-align: right;\">\n",
       "      <th></th>\n",
       "      <th>date</th>\n",
       "      <th>sector</th>\n",
       "      <th>country</th>\n",
       "      <th>co2</th>\n",
       "    </tr>\n",
       "  </thead>\n",
       "  <tbody>\n",
       "    <tr>\n",
       "      <th>0</th>\n",
       "      <td>2019/1/1</td>\n",
       "      <td>Domestic Aviation</td>\n",
       "      <td>Brazil</td>\n",
       "      <td>0.023750</td>\n",
       "    </tr>\n",
       "    <tr>\n",
       "      <th>1</th>\n",
       "      <td>2019/1/1</td>\n",
       "      <td>Ground Transport</td>\n",
       "      <td>Brazil</td>\n",
       "      <td>0.201663</td>\n",
       "    </tr>\n",
       "    <tr>\n",
       "      <th>2</th>\n",
       "      <td>2019/1/1</td>\n",
       "      <td>Industry</td>\n",
       "      <td>Brazil</td>\n",
       "      <td>0.240156</td>\n",
       "    </tr>\n",
       "    <tr>\n",
       "      <th>3</th>\n",
       "      <td>2019/1/1</td>\n",
       "      <td>International Aviation</td>\n",
       "      <td>Brazil</td>\n",
       "      <td>0.018398</td>\n",
       "    </tr>\n",
       "    <tr>\n",
       "      <th>4</th>\n",
       "      <td>2019/1/1</td>\n",
       "      <td>Power</td>\n",
       "      <td>Brazil</td>\n",
       "      <td>0.107724</td>\n",
       "    </tr>\n",
       "    <tr>\n",
       "      <th>...</th>\n",
       "      <td>...</td>\n",
       "      <td>...</td>\n",
       "      <td>...</td>\n",
       "      <td>...</td>\n",
       "    </tr>\n",
       "    <tr>\n",
       "      <th>192748</th>\n",
       "      <td>2024/4/30</td>\n",
       "      <td>International Aviation</td>\n",
       "      <td>WORLD</td>\n",
       "      <td>1.611870</td>\n",
       "    </tr>\n",
       "    <tr>\n",
       "      <th>192749</th>\n",
       "      <td>2024/4/30</td>\n",
       "      <td>International Shipping</td>\n",
       "      <td>WORLD</td>\n",
       "      <td>1.915149</td>\n",
       "    </tr>\n",
       "    <tr>\n",
       "      <th>192750</th>\n",
       "      <td>2024/4/30</td>\n",
       "      <td>Power</td>\n",
       "      <td>WORLD</td>\n",
       "      <td>33.285836</td>\n",
       "    </tr>\n",
       "    <tr>\n",
       "      <th>192751</th>\n",
       "      <td>2024/4/30</td>\n",
       "      <td>Residential</td>\n",
       "      <td>WORLD</td>\n",
       "      <td>7.137493</td>\n",
       "    </tr>\n",
       "    <tr>\n",
       "      <th>192752</th>\n",
       "      <td>2024/4/30</td>\n",
       "      <td>Total</td>\n",
       "      <td>WORLD</td>\n",
       "      <td>91.687855</td>\n",
       "    </tr>\n",
       "  </tbody>\n",
       "</table>\n",
       "<p>192753 rows × 4 columns</p>\n",
       "</div>"
      ],
      "text/plain": [
       "             date                  sector country        co2\n",
       "0        2019/1/1       Domestic Aviation  Brazil   0.023750\n",
       "1        2019/1/1        Ground Transport  Brazil   0.201663\n",
       "2        2019/1/1                Industry  Brazil   0.240156\n",
       "3        2019/1/1  International Aviation  Brazil   0.018398\n",
       "4        2019/1/1                   Power  Brazil   0.107724\n",
       "...           ...                     ...     ...        ...\n",
       "192748  2024/4/30  International Aviation   WORLD   1.611870\n",
       "192749  2024/4/30  International Shipping   WORLD   1.915149\n",
       "192750  2024/4/30                   Power   WORLD  33.285836\n",
       "192751  2024/4/30             Residential   WORLD   7.137493\n",
       "192752  2024/4/30                   Total   WORLD  91.687855\n",
       "\n",
       "[192753 rows x 4 columns]"
      ]
     },
     "execution_count": 4,
     "metadata": {},
     "output_type": "execute_result"
    }
   ],
   "source": [
    "df = pd.read_csv('CM_emission_kton.csv')\n",
    "df"
   ]
  },
  {
   "cell_type": "code",
   "execution_count": 6,
   "metadata": {},
   "outputs": [
    {
     "data": {
      "text/plain": [
       "(192753, 4)"
      ]
     },
     "execution_count": 6,
     "metadata": {},
     "output_type": "execute_result"
    }
   ],
   "source": [
    "df.shape"
   ]
  },
  {
   "cell_type": "code",
   "execution_count": 10,
   "metadata": {},
   "outputs": [
    {
     "name": "stdout",
     "output_type": "stream",
     "text": [
      "date       1947\n",
      "sector        8\n",
      "country      14\n",
      "dtype: int64\n"
     ]
    }
   ],
   "source": [
    "unique_counts = df[['date','sector', 'country']].nunique()\n",
    "print(unique_counts)"
   ]
  },
  {
   "cell_type": "code",
   "execution_count": 12,
   "metadata": {},
   "outputs": [
    {
     "name": "stdout",
     "output_type": "stream",
     "text": [
      "country\n",
      "WORLD             15576\n",
      "Brazil            13629\n",
      "EU27 & UK         13629\n",
      "France            13629\n",
      "Germany           13629\n",
      "China             13629\n",
      "India             13629\n",
      "Italy             13629\n",
      "ROW               13629\n",
      "Japan             13629\n",
      "Russia            13629\n",
      "Spain             13629\n",
      "United Kingdom    13629\n",
      "United States     13629\n",
      "Name: count, dtype: int64\n"
     ]
    }
   ],
   "source": [
    "country_index = df['country'].value_counts()\n",
    "print(country_index)"
   ]
  },
  {
   "cell_type": "code",
   "execution_count": 13,
   "metadata": {},
   "outputs": [
    {
     "name": "stdout",
     "output_type": "stream",
     "text": [
      "sector\n",
      "Domestic Aviation         27258\n",
      "Ground Transport          27258\n",
      "Industry                  27258\n",
      "International Aviation    27258\n",
      "Power                     27258\n",
      "Residential               27258\n",
      "Total                     27258\n",
      "International Shipping     1947\n",
      "Name: count, dtype: int64\n"
     ]
    }
   ],
   "source": [
    "sector_index = df['sector'].value_counts()\n",
    "print(sector_index)"
   ]
  },
  {
   "cell_type": "code",
   "execution_count": null,
   "metadata": {},
   "outputs": [],
   "source": []
  }
 ],
 "metadata": {
  "kernelspec": {
   "display_name": "gemma",
   "language": "python",
   "name": "python3"
  },
  "language_info": {
   "codemirror_mode": {
    "name": "ipython",
    "version": 3
   },
   "file_extension": ".py",
   "mimetype": "text/x-python",
   "name": "python",
   "nbconvert_exporter": "python",
   "pygments_lexer": "ipython3",
   "version": "3.12.4"
  }
 },
 "nbformat": 4,
 "nbformat_minor": 2
}
