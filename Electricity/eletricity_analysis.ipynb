{
 "cells": [
  {
   "cell_type": "code",
   "execution_count": 65,
   "metadata": {},
   "outputs": [],
   "source": [
    "import pandas as pd\n",
    "import os"
   ]
  },
  {
   "cell_type": "code",
   "execution_count": 66,
   "metadata": {},
   "outputs": [],
   "source": [
    "input_dir = './source_data/'\n",
    "output_dir = './processed_data/'"
   ]
  },
  {
   "cell_type": "code",
   "execution_count": 71,
   "metadata": {},
   "outputs": [],
   "source": [
    "def get_csv_files(inputdir):\n",
    "    files = os.listdir(inputdir)\n",
    "    csv_files = [f for f in files if os.path.isfile(os.path.join(inputdir, f)) and f.endswith('.csv')]\n",
    "    return csv_files\n",
    "\n",
    "def file_process(file_path, output_dir):\n",
    "    outfile = file_path.split('/')[-1].split('.')[0] + '_processed.csv'\n",
    "    data = pd.read_csv(file_path)\n",
    "    data.drop(columns=['Code'], inplace=True)\n",
    "    pivot_data = data.pivot(index='Entity', columns='Year', values=data.columns[-1])\n",
    "    pivot_data.columns = ['Year_' + str(col) for col in pivot_data.columns]\n",
    "    pivot_data.dropna(how='all', inplace=True)\n",
    "    pivot_data.reset_index(inplace=True)\n",
    "    # print(pivot_data.head())\n",
    "    if not os.path.exists(output_dir):\n",
    "        os.makedirs(output_dir)\n",
    "    pivot_data.to_csv(os.path.join(output_dir, outfile), index=False)\n"
   ]
  },
  {
   "cell_type": "code",
   "execution_count": 72,
   "metadata": {},
   "outputs": [
    {
     "name": "stdout",
     "output_type": "stream",
     "text": [
      "electricity-generation.csv is processed successfully!\n",
      "primary-energy-cons.csv is processed successfully!\n",
      "electricity-demand.csv is processed successfully!\n",
      "per-capita-energy-use.csv is processed successfully!\n"
     ]
    }
   ],
   "source": [
    "files = get_csv_files(input_dir)\n",
    "\n",
    "for file in files:\n",
    "    file_path = os.path.join(input_dir, file)\n",
    "    file_process(file_path, output_dir)\n",
    "    print(file + ' is processed successfully!')"
   ]
  }
 ],
 "metadata": {
  "kernelspec": {
   "display_name": "gemma",
   "language": "python",
   "name": "python3"
  },
  "language_info": {
   "codemirror_mode": {
    "name": "ipython",
    "version": 3
   },
   "file_extension": ".py",
   "mimetype": "text/x-python",
   "name": "python",
   "nbconvert_exporter": "python",
   "pygments_lexer": "ipython3",
   "version": "3.12.4"
  }
 },
 "nbformat": 4,
 "nbformat_minor": 2
}
